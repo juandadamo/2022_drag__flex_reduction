{
 "cells": [
  {
   "cell_type": "code",
   "execution_count": 1,
   "id": "c3c0800f",
   "metadata": {},
   "outputs": [],
   "source": [
    "import CoolProp \n",
    "from CoolProp.CoolProp import PropsSI\n",
    "import pandas as pd\n",
    "import numpy as np\n",
    "import glob,sys,socket,fileinput\n",
    "import os.path\n",
    "import matplotlib.pyplot as plt"
   ]
  },
  {
   "cell_type": "code",
   "execution_count": 2,
   "id": "b9da6401",
   "metadata": {},
   "outputs": [],
   "source": [
    "D=50/1000 #Diametro de la parte cilindrica [m]\n",
    "rho=PropsSI('D', 'T', 288.15, 'P', 1e5, 'AIR') #Densidad del aire [kg/m3]\n",
    "mu=PropsSI('V', 'T', 278.15, 'P', 1e5, 'AIR') #Viscocidad del aire [Pa. s]\n",
    "L=0.175*2 #Largo del cilindro en metros\n",
    "A=D*L ## area proyectada"
   ]
  },
  {
   "cell_type": "code",
   "execution_count": 3,
   "id": "5c0e0445",
   "metadata": {},
   "outputs": [],
   "source": [
    "# en calibrationData va el nombre del archivo que \n",
    "CDfile = \"CD.txt\"\n",
    "CDData=open(CDfile,\"w\")\n",
    "#CDData.write('txt,Media Lift,Media Drag,STD Lift,STD Drag\\n');\n",
    "CDData.write('txt,MediaLift,MediaDrag\\n');"
   ]
  },
  {
   "cell_type": "code",
   "execution_count": 4,
   "id": "e016ef54",
   "metadata": {},
   "outputs": [],
   "source": [
    "VelocityFile = \"Velocidades Calibradas/Velocidades.txt\"\n",
    "VelocityData = pd.read_csv(VelocityFile)\n",
    "PolinomioVelocidad=np.polyfit(VelocityData[\"V [V]\"],VelocityData[\"U [m/s]\"],1)"
   ]
  },
  {
   "cell_type": "code",
   "execution_count": 5,
   "id": "29d8cff1",
   "metadata": {},
   "outputs": [],
   "source": [
    "RawDataFolder = \"Raw Data/\"\n",
    "files = np.sort(glob.glob(RawDataFolder+'*.txt'))\n",
    "VoltajeMedicion=[]\n",
    "VelocidadMedicion=[]\n",
    "ReMedicion=[]\n",
    "for i in files:\n",
    "    item=i.strip(\"Raw Data\\\\V\")\n",
    "    item=item.strip(\".txt\")\n",
    "    item=item.strip(\"\")\n",
    "    VoltajeMedicion.append(float(item))\n",
    "    Vitem=PolinomioVelocidad[0]*float(item)+PolinomioVelocidad[1]\n",
    "    VelocidadMedicion.append(Vitem)\n",
    "    ReMedicion.append(Vitem*D*rho/mu)"
   ]
  },
  {
   "cell_type": "code",
   "execution_count": 6,
   "id": "e395ad25",
   "metadata": {},
   "outputs": [],
   "source": [
    "Inicial= {\n",
    "    \"Voltaje\" : VoltajeMedicion,\n",
    "    \"Velocidad\" : VelocidadMedicion,\n",
    "    \"Re\" : ReMedicion,\n",
    "    }\n",
    "DFInicial = pd.DataFrame(Inicial)"
   ]
  },
  {
   "cell_type": "code",
   "execution_count": 7,
   "id": "b5653b66",
   "metadata": {},
   "outputs": [],
   "source": [
    "for i in files:\n",
    "    datos = pd.read_csv(i, sep=\",\", header=None,skiprows=3)\n",
    "    datos = datos[:-100]\n",
    "    datos.columns = [\"Lift\", \"Drag\", \"Time\"]\n",
    "    datos = datos.astype(float)\n",
    "    datos=datos[500:5500]\n",
    "    mediaLift=datos[\"Lift\"].mean()\n",
    "    stdLift=datos[\"Lift\"].std()\n",
    "    mediaDrag=(datos[\"Drag\"].mean())\n",
    "    stdDrag=(datos[\"Drag\"].std())\n",
    "    # Las lineas vienen como #.txt,mediaL,mediaD,stdL,stdD\n",
    "    #CDData.write(i+\",\"+str(mediaLift)+\",\"+str(mediaDrag)+\",\"+str(stdLift)+\",\"+str(stdDrag)+\"\\n\")\n",
    "    CDData.write(i+\",\"+str(mediaLift)+\",\"+str(mediaDrag)+\"\\n\")\n",
    "CDData.close()"
   ]
  },
  {
   "cell_type": "code",
   "execution_count": 8,
   "id": "46c5852a",
   "metadata": {},
   "outputs": [],
   "source": [
    "CDData.close()\n",
    "DFFinal=pd.read_csv(CDfile)"
   ]
  },
  {
   "cell_type": "code",
   "execution_count": 9,
   "id": "a7fc7389",
   "metadata": {},
   "outputs": [],
   "source": [
    "## Tomo la referencia y la borro del original\n",
    "\n",
    "DatosCD=pd.concat([DFFinal,DFInicial],axis =1)\n",
    "Referencia=DatosCD[:1]\n",
    "Drag0=Referencia[\"MediaDrag\"][0]\n",
    "Lift0=Referencia[\"MediaLift\"][0]\n",
    "DatosCD=DatosCD.drop([0]) "
   ]
  },
  {
   "cell_type": "code",
   "execution_count": 10,
   "id": "05140115",
   "metadata": {},
   "outputs": [],
   "source": [
    "### Uso la referencia para poner en 0 todo\n",
    "DatosCD[\"Drag\"]= DatosCD[\"MediaDrag\"]-Drag0\n",
    "DatosCD[\"Lift\"]= DatosCD[\"MediaLift\"]-Lift0"
   ]
  },
  {
   "cell_type": "code",
   "execution_count": 11,
   "id": "e1e602dd",
   "metadata": {},
   "outputs": [],
   "source": [
    "#limpio los datos que ya no me sirven\n",
    "\n",
    "DatosCD=DatosCD.drop(\"txt\", axis=1)\n",
    "DatosCD=DatosCD.drop(\"MediaDrag\", axis=1)\n",
    "DatosCD=DatosCD.drop(\"MediaLift\", axis=1)"
   ]
  },
  {
   "cell_type": "code",
   "execution_count": 12,
   "id": "ffc169a9",
   "metadata": {},
   "outputs": [],
   "source": [
    "DatosCD[\"CD\"]=DatosCD[\"Drag\"]*0.00980665/(0.5*A*rho*DatosCD[\"Velocidad\"]**2)\n",
    "DatosCD[\"CL\"]=DatosCD[\"Lift\"]*0.00980665/(0.5*A*rho*DatosCD[\"Velocidad\"]**2)"
   ]
  },
  {
   "cell_type": "code",
   "execution_count": 15,
   "id": "f0a80ca3",
   "metadata": {},
   "outputs": [
    {
     "data": {
      "text/html": [
       "<div>\n",
       "<style scoped>\n",
       "    .dataframe tbody tr th:only-of-type {\n",
       "        vertical-align: middle;\n",
       "    }\n",
       "\n",
       "    .dataframe tbody tr th {\n",
       "        vertical-align: top;\n",
       "    }\n",
       "\n",
       "    .dataframe thead th {\n",
       "        text-align: right;\n",
       "    }\n",
       "</style>\n",
       "<table border=\"1\" class=\"dataframe\">\n",
       "  <thead>\n",
       "    <tr style=\"text-align: right;\">\n",
       "      <th></th>\n",
       "      <th>Voltaje</th>\n",
       "      <th>Velocidad</th>\n",
       "      <th>Re</th>\n",
       "      <th>Drag</th>\n",
       "      <th>Lift</th>\n",
       "      <th>CD</th>\n",
       "      <th>CL</th>\n",
       "    </tr>\n",
       "  </thead>\n",
       "  <tbody>\n",
       "    <tr>\n",
       "      <th>1</th>\n",
       "      <td>11.17</td>\n",
       "      <td>0.902080</td>\n",
       "      <td>3123.105271</td>\n",
       "      <td>2.437404</td>\n",
       "      <td>3.784336</td>\n",
       "      <td>2.775503</td>\n",
       "      <td>4.309271</td>\n",
       "    </tr>\n",
       "    <tr>\n",
       "      <th>2</th>\n",
       "      <td>21.26</td>\n",
       "      <td>1.825380</td>\n",
       "      <td>6319.675474</td>\n",
       "      <td>12.076346</td>\n",
       "      <td>4.995288</td>\n",
       "      <td>3.358407</td>\n",
       "      <td>1.389179</td>\n",
       "    </tr>\n",
       "    <tr>\n",
       "      <th>3</th>\n",
       "      <td>26.62</td>\n",
       "      <td>2.315855</td>\n",
       "      <td>8017.754393</td>\n",
       "      <td>19.166822</td>\n",
       "      <td>5.422122</td>\n",
       "      <td>3.311555</td>\n",
       "      <td>0.936809</td>\n",
       "    </tr>\n",
       "    <tr>\n",
       "      <th>4</th>\n",
       "      <td>31.22</td>\n",
       "      <td>2.736784</td>\n",
       "      <td>9475.060928</td>\n",
       "      <td>26.924056</td>\n",
       "      <td>7.172060</td>\n",
       "      <td>3.330917</td>\n",
       "      <td>0.887293</td>\n",
       "    </tr>\n",
       "    <tr>\n",
       "      <th>5</th>\n",
       "      <td>36.40</td>\n",
       "      <td>3.210788</td>\n",
       "      <td>11116.114808</td>\n",
       "      <td>37.668442</td>\n",
       "      <td>9.057546</td>\n",
       "      <td>3.385782</td>\n",
       "      <td>0.814126</td>\n",
       "    </tr>\n",
       "    <tr>\n",
       "      <th>6</th>\n",
       "      <td>41.30</td>\n",
       "      <td>3.659169</td>\n",
       "      <td>12668.463073</td>\n",
       "      <td>49.069454</td>\n",
       "      <td>9.515616</td>\n",
       "      <td>3.395867</td>\n",
       "      <td>0.658531</td>\n",
       "    </tr>\n",
       "    <tr>\n",
       "      <th>7</th>\n",
       "      <td>52.40</td>\n",
       "      <td>4.674891</td>\n",
       "      <td>16185.007102</td>\n",
       "      <td>81.856516</td>\n",
       "      <td>16.053008</td>\n",
       "      <td>3.470682</td>\n",
       "      <td>0.680641</td>\n",
       "    </tr>\n",
       "    <tr>\n",
       "      <th>8</th>\n",
       "      <td>54.40</td>\n",
       "      <td>4.857904</td>\n",
       "      <td>16818.618639</td>\n",
       "      <td>87.301936</td>\n",
       "      <td>15.343144</td>\n",
       "      <td>3.427919</td>\n",
       "      <td>0.602450</td>\n",
       "    </tr>\n",
       "  </tbody>\n",
       "</table>\n",
       "</div>"
      ],
      "text/plain": [
       "   Voltaje  Velocidad            Re       Drag       Lift        CD        CL\n",
       "1    11.17   0.902080   3123.105271   2.437404   3.784336  2.775503  4.309271\n",
       "2    21.26   1.825380   6319.675474  12.076346   4.995288  3.358407  1.389179\n",
       "3    26.62   2.315855   8017.754393  19.166822   5.422122  3.311555  0.936809\n",
       "4    31.22   2.736784   9475.060928  26.924056   7.172060  3.330917  0.887293\n",
       "5    36.40   3.210788  11116.114808  37.668442   9.057546  3.385782  0.814126\n",
       "6    41.30   3.659169  12668.463073  49.069454   9.515616  3.395867  0.658531\n",
       "7    52.40   4.674891  16185.007102  81.856516  16.053008  3.470682  0.680641\n",
       "8    54.40   4.857904  16818.618639  87.301936  15.343144  3.427919  0.602450"
      ]
     },
     "execution_count": 15,
     "metadata": {},
     "output_type": "execute_result"
    }
   ],
   "source": [
    "DatosCD"
   ]
  },
  {
   "cell_type": "code",
   "execution_count": 16,
   "id": "f1b9e321",
   "metadata": {},
   "outputs": [
    {
     "data": {
      "text/plain": [
       "<AxesSubplot:xlabel='Re'>"
      ]
     },
     "execution_count": 16,
     "metadata": {},
     "output_type": "execute_result"
    },
    {
     "data": {
      "image/png": "[encoded data removed]",
      "text/plain": [
       "<Figure size 432x288 with 1 Axes>"
      ]
     },
     "metadata": {
      "needs_background": "light"
     },
     "output_type": "display_data"
    }
   ],
   "source": [
    "DatosCD.plot(x=\"Re\", y=\"CD\")"
   ]
  },
  {
   "cell_type": "code",
   "execution_count": null,
   "id": "c2fadb47",
   "metadata": {},
   "outputs": [],
   "source": []
  }
 ],
 "metadata": {
  "kernelspec": {
   "display_name": "Python 3 (ipykernel)",
   "language": "python",
   "name": "python3"
  },
  "language_info": {
   "codemirror_mode": {
    "name": "ipython",
    "version": 3
   },
   "file_extension": ".py",
   "mimetype": "text/x-python",
   "name": "python",
   "nbconvert_exporter": "python",
   "pygments_lexer": "ipython3",
   "version": "3.9.12"
  }
 },
 "nbformat": 4,
 "nbformat_minor": 5
}
