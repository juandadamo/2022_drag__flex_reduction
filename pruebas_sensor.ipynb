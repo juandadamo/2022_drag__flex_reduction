{
 "cells": [
  {
   "cell_type": "code",
   "execution_count": 10,
   "id": "07fadfa0-787a-4499-8fff-fc280d8faa84",
   "metadata": {},
   "outputs": [],
   "source": [
    "import serial\n",
    "import numpy as np\n",
    "from matplotlib import pyplot as plt\n",
    "import time \n",
    "import struct"
   ]
  },
  {
   "cell_type": "markdown",
   "id": "efb5def0-2c5f-453a-a3bf-7ade609be83a",
   "metadata": {},
   "source": [
    "Atención, la placa necesita un par de segundos luego de iniciada para empezar a adquirir correctamente.\n",
    "Por eso, se descartan los primeros valores pero el resto \n"
   ]
  },
  {
   "cell_type": "code",
   "execution_count": 43,
   "id": "f1e9d317-c638-4dbf-ae6b-c0a5f51dceac",
   "metadata": {},
   "outputs": [],
   "source": [
    "fsampling = 80\n",
    "dt = 1/fsampling\n",
    "tfinal = 1\n",
    "tiempo_total = np.arange(0,tfinal,dt)\n",
    "\n",
    "\n",
    "time0 = time.time()\n",
    "time1 = time.time()-time0\n",
    "ser = serial.Serial('/dev/ttyUSB0', 115200, timeout=None)\n",
    "output =[]\n",
    "while time1<3:\n",
    "    \n",
    "    line = ser.readline()   # read a '\\n' terminated line\n",
    "    time1 = time.time()-time0\n",
    "    texto = str(line.decode('ascii')).split('\\r')[0]\n",
    "    #output.append((time1,line))\n",
    "    if texto!= '\\n':\n",
    "        if texto != '':\n",
    "            data = float(texto)\n",
    "            output.append((time1,data))\n",
    "ser.close()\n",
    "t, w = np.asarray(output)[1:,:].T\n"
   ]
  },
  {
   "cell_type": "code",
   "execution_count": 44,
   "id": "11b4ff4d-8e1b-47c7-bbf7-57f103c4f5db",
   "metadata": {},
   "outputs": [
    {
     "data": {
      "text/plain": [
       "[<matplotlib.lines.Line2D at 0x7fa1f1439c70>]"
      ]
     },
     "execution_count": 44,
     "metadata": {},
     "output_type": "execute_result"
    },
    {
     "data": {
      "image/png": "[encoded data removed]",
      "text/plain": [
       "<Figure size 432x288 with 1 Axes>"
      ]
     },
     "metadata": {
      "needs_background": "light"
     },
     "output_type": "display_data"
    }
   ],
   "source": [
    "fig,ax = plt.subplots()\n",
    "ax.plot(t,w)"
   ]
  },
  {
   "cell_type": "code",
   "execution_count": 39,
   "id": "2f962b83-7b96-4978-80bc-66eeecac83ad",
   "metadata": {},
   "outputs": [
    {
     "data": {
      "text/plain": [
       "array([ 1.05376e+05,  5.20000e-02,  4.30000e-02,  7.00000e-02,\n",
       "        5.00000e-03, -1.80000e-02,  5.80000e-02,  4.00000e-03,\n",
       "        7.20000e-02,  3.00000e-02, -3.20000e-02,  8.90000e-02,\n",
       "        3.90000e-02,  3.40000e-02,  2.30000e-02,  1.40000e-02,\n",
       "        7.90000e-02,  4.60000e-02,  7.90000e-02,  7.00000e-03,\n",
       "       -9.00000e-03, -4.10000e-02, -4.30000e-02,  6.30000e-02,\n",
       "       -2.10000e-02,  1.10000e-02,  3.40000e-02,  7.10000e-02,\n",
       "        1.12000e-01,  1.20000e-02,  2.90000e-02,  2.00000e-03,\n",
       "       -4.00000e-03, -9.00000e-03, -2.00000e-02,  2.00000e-02,\n",
       "       -1.70000e-02,  4.70000e-02,  3.10000e-02,  4.30000e-02,\n",
       "        9.10000e-02,  1.50000e-02,  5.20000e-02,  6.00000e-03,\n",
       "       -2.90000e-02,  7.20000e-02,  1.10000e-02,  7.90000e-02,\n",
       "        6.20000e-02,  3.20000e-02,  4.60000e-02,  6.00000e-03,\n",
       "        2.80000e-02,  1.50000e-02,  3.40000e-02,  6.20000e-02,\n",
       "        5.10000e-02,  5.20000e-02, -5.00000e-02,  2.20000e-02,\n",
       "        1.20000e-02,  3.70000e-02,  1.09000e-01,  7.00000e-02,\n",
       "        1.11000e-01,  5.30000e-02,  7.70000e-02,  4.30000e-02,\n",
       "        2.20000e-02,  1.18000e-01,  8.60000e-02,  1.31000e-01,\n",
       "        5.60000e-02,  1.00000e-03,  9.40000e-02,  5.00000e-02,\n",
       "        7.70000e-02, -4.00000e-03,  1.10000e-02,  5.20000e-02,\n",
       "        2.40000e-02,  1.01000e-01,  4.20000e-02,  1.60000e-02,\n",
       "        5.80000e-02,  9.00000e-03,  1.50000e-02, -8.00000e-03,\n",
       "        1.50000e-02,  2.20000e-02,  3.80000e-02,  6.10000e-02,\n",
       "       -2.50000e-02,  7.10000e-02,  3.70000e-02,  2.60000e-02,\n",
       "        2.30000e-02, -4.50000e-02,  3.90000e-02,  8.50000e-02,\n",
       "        9.20000e-02,  2.30000e-02, -1.00000e-02,  9.70000e-02,\n",
       "        1.70000e-02,  1.30000e-02,  5.40000e-02,  7.50000e-02,\n",
       "        3.10000e-02,  4.00000e-03,  1.01000e-01,  5.30000e-02,\n",
       "        6.20000e-02])"
      ]
     },
     "execution_count": 39,
     "metadata": {},
     "output_type": "execute_result"
    }
   ],
   "source": [
    "w"
   ]
  },
  {
   "cell_type": "code",
   "execution_count": 10,
   "id": "c81a01fd-563f-411e-aa2d-5ffbb1eb1e4f",
   "metadata": {},
   "outputs": [
    {
     "data": {
      "text/plain": [
       "b''"
      ]
     },
     "execution_count": 10,
     "metadata": {},
     "output_type": "execute_result"
    }
   ],
   "source": [
    "line"
   ]
  },
  {
   "cell_type": "code",
   "execution_count": null,
   "id": "efc0d927-40ca-457e-bb89-049af8b25fea",
   "metadata": {},
   "outputs": [],
   "source": []
  }
 ],
 "metadata": {
  "kernelspec": {
   "display_name": "Python 3 (ipykernel)",
   "language": "python",
   "name": "python3"
  },
  "language_info": {
   "codemirror_mode": {
    "name": "ipython",
    "version": 3
   },
   "file_extension": ".py",
   "mimetype": "text/x-python",
   "name": "python",
   "nbconvert_exporter": "python",
   "pygments_lexer": "ipython3",
   "version": "3.9.12"
  }
 },
 "nbformat": 4,
 "nbformat_minor": 5
}
