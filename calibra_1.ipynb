{
 "cells": [
  {
   "cell_type": "code",
   "execution_count": 11,
   "id": "e9be9cf4-7015-4a4e-b30f-fb90304c3437",
   "metadata": {},
   "outputs": [],
   "source": [
    "%%capture\n",
    "!pip install ipywidgets pyserial matplotlib \n",
    "%matplotlib widget\n",
    "import serial,socket,os,glob\n",
    "import matplotlib.pyplot as plt\n",
    "#import atexit\n",
    "import numpy as np\n",
    "import time\n",
    "from ipywidgets import interact, interact_manual,interactive,widgets,Layout\n"
   ]
  },
  {
   "cell_type": "code",
   "execution_count": 12,
   "id": "16b00f4e-c8bf-4508-9d4d-12c4e46367fd",
   "metadata": {},
   "outputs": [],
   "source": [
    "if socket.gethostname() == 'ASUS515':\n",
    "    port = '/dev/ttyACM0'\n",
    "elif     socket.gethostname() == 'juan-i7':\n",
    "    port = '/dev/ttyUSB0'"
   ]
  },
  {
   "cell_type": "code",
   "execution_count": 13,
   "id": "4b6657fe-ec0e-469b-b70b-d07f857a7362",
   "metadata": {},
   "outputs": [],
   "source": [
    "#distancia de aplicacion fuerza (m)\n",
    "L1 = (260+45)*1e-3\n",
    "#brazo de la balanza (m)\n",
    "L2 = 650e-3\n",
    "masas = np.array([0,20,30,50,60,70,80])\n",
    "lecturas = np.array([89.5,80.32,79.26,63.17,59.54,58.6,55.32])"
   ]
  },
  {
   "cell_type": "code",
   "execution_count": 14,
   "id": "6da43fb1-5197-4bd4-9bab-55be53972818",
   "metadata": {},
   "outputs": [
    {
     "data": {
      "application/vnd.jupyter.widget-view+json": {
       "model_id": "d8484a68d13d4193b4e51cd7eb794849",
       "version_major": 2,
       "version_minor": 0
      },
      "image/png": "[encoded data removed]",
      "text/html": [
       "\n",
       "            <div style=\"display: inline-block;\">\n",
       "                <div class=\"jupyter-widgets widget-label\" style=\"text-align: center;\">\n",
       "                    Figure\n",
       "                </div>\n",
       "                <img src='data:image/png;base64,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' width=640.0/>\n",
       "            </div>\n",
       "        "
      ],
      "text/plain": [
       "Canvas(toolbar=Toolbar(toolitems=[('Home', 'Reset original view', 'home', 'home'), ('Back', 'Back to previous …"
      ]
     },
     "metadata": {},
     "output_type": "display_data"
    }
   ],
   "source": [
    "fig,ax = plt.subplots()\n",
    "ax.plot(masas,lecturas,'o');\n",
    "ax.grid()"
   ]
  },
  {
   "cell_type": "code",
   "execution_count": 27,
   "id": "94406cfe-1346-4177-9809-fb9c036eba4a",
   "metadata": {},
   "outputs": [],
   "source": [
    "def f_acquire(b=1):\n",
    "    archivo = open('output.txt','w')\n",
    "    fsampling = 25\n",
    "    dt = 1/fsampling\n",
    "    tventana = 8\n",
    "    tiempo_total,valores = np.zeros((2,fsampling*tventana))\n",
    "    valores[valores==0] = np.NaN\n",
    "    arduino = serial.Serial(port, 115200, timeout=1/80)\n",
    "    i = 0\n",
    "    time0 = time.time()\n",
    "    time1 = time.time()-time0\n",
    "    linea = arduino.readline() \n",
    "    while i<fsampling*3:\n",
    "        linea = arduino.readline()   # read a '\\n' terminated line\n",
    "\n",
    "        texto = str(linea.decode('ascii')).split('\\r')[0]\n",
    "        \n",
    "        if texto!= '\\n':\n",
    "            if texto != '':\n",
    "                data = float(texto)                \n",
    "                if i ==0:\n",
    "                    time0 = time.time()\n",
    "                     \n",
    "                time1 = time.time()-time0\n",
    "                tiempo_total[i] = time1\n",
    "                valores[i] = data\n",
    "                i += 1\n",
    "                line1.set_data([tiempo_total,valores])\n",
    "                fig1.canvas.draw()\n",
    "                archivo.write(f'{time1:.4f},{data:.2f}\\n')\n",
    "    arduino.close()\n",
    "    archivo.close()\n",
    "    return tiempo_total,valores\n",
    "\n",
    "def f_save(b=1):\n",
    "    nombre = f'B_{rigidez_i.value:03d}_L_{int(longitud_i.value*100):03d}.txt'\n",
    "    if os.path.isfile(nombre):\n",
    "        nombre = np.sort(glob.glob(nombre[:3]+'*'))[-1]\n",
    "        partes = nombre.split('_')\n",
    "        if len(partes)<5:\n",
    "            numfile = 0\n",
    "            nombre = nombre.replace(f'.txt',f'_{numfile:0d}.txt') \n",
    "        else:\n",
    "            numfile = int(nombre.split('.txt')[0][-1:])\n",
    "            nombre = nombre.replace(f'_{numfile:0d}.txt',f'_{numfile+1:0d}.txt')   \n",
    "    print(nombre)\n",
    "    os.rename('output.txt',nombre)\n",
    "    \n",
    "    \n",
    "    "
   ]
  },
  {
   "cell_type": "code",
   "execution_count": 32,
   "id": "c3308ca9-d7ac-48f4-b48c-0792692b39a2",
   "metadata": {},
   "outputs": [],
   "source": [
    "#t,w = f_acquire()\n",
    "plt.ioff()\n",
    "B_s = [1,30,80,180]\n",
    "long_s = [0.75,1,1.25,1.5]\n",
    "\n",
    "outputw = widgets.Output()\n",
    "output_balanza = widgets.HBox(layout={'border': '4px solid black'})\n",
    "masa = widgets.FloatText(    value=50,     description='Masa (g):',     disabled=False )\n",
    "\n",
    "\n",
    "\n",
    "\n",
    "\n",
    "punto_i = widgets.FloatText(  value=0,     description='Punto nº',     disabled=False )\n",
    "\n",
    "output = widgets.Output()\n",
    "ylims = widgets.FloatRangeSlider(value=[-2, 2],\n",
    "    min=-10,\n",
    "    max=10.0,\n",
    "    step=0.5,\n",
    "    disabled=False,\n",
    "    continuous_update=False,\n",
    "    orientation='horizontal',\n",
    "    readout=True,\n",
    "    readout_format='.2f', layout = widgets.Layout(width='300px')\n",
    ")\n",
    "xlims_label = widgets.Label('Time:')\n",
    "xlims = widgets.FloatRangeSlider(value=[0, 2],\n",
    "    min=0,\n",
    "    max=5.0,\n",
    "    step=0.5,\n",
    "\n",
    "    disabled=False,\n",
    "    continuous_update=False,\n",
    "    orientation='vertical',\n",
    "    readout=True,\n",
    "    readout_format='.2f', layout = widgets.Layout(width='200px',Positioning='bottom')\n",
    ")\n",
    "\n",
    "ylims_label = widgets.Label('Force:')\n",
    "\n",
    "boton_inicio_captura = widgets.Button(description='Inicio')\n",
    "boton_save = widgets.Button(description='Guardar')\n",
    "plt.ioff()\n",
    "\n",
    "parametros_flaps = widgets.VBox() \n",
    "plot_params = widgets.HBox()\n",
    "plot_params.children = (widgets.VBox([xlims,xlims_label]),widgets.VBox([ylims,ylims_label]))\n",
    "\n",
    "fig1, ax1 = plt.subplots(constrained_layout=True, figsize=(2, 2))\n",
    "fig2, ax2 = plt.subplots(constrained_layout=True, figsize=(5, 3))\n",
    "line1, = ax1.plot([], [], lw=2)\n",
    "line2, = ax2.plot([], [], lw=2)\n",
    "# move the toolbar to the bottom\n",
    "fig1.canvas.toolbar_position = 'bottom'\n",
    "fig2.canvas.toolbar_position = 'bottom'\n",
    "ax1.grid(True)  \n",
    "ax2.grid(True)  \n",
    "\n",
    "\n",
    "\n",
    "\n",
    "box_layout = widgets.Layout()\n",
    "boton_inicio_captura.on_click(f_acquire)\n",
    "boton_save.on_click(f_save)\n",
    "parametros_flaps.children = ([masa,punto_i])\n",
    "panel_control = widgets.VBox(layout={'border': '1px solid black'})\n",
    "panel_control.children = ([parametros_flaps,boton_inicio_captura,boton_save,fig1.canvas])\n",
    "output_balanza.children = ([panel_control,fig2.canvas])\n",
    "\n",
    "\n",
    "ax1.set_xlim([0,7])\n",
    "ax1.set_ylim([-5,30]);"
   ]
  },
  {
   "cell_type": "code",
   "execution_count": 33,
   "id": "eeb733dd-0a65-4bc7-bab5-5507f26010cd",
   "metadata": {},
   "outputs": [
    {
     "data": {
      "application/vnd.jupyter.widget-view+json": {
       "model_id": "073a82d8d47b4e7fac79fbf49ad86390",
       "version_major": 2,
       "version_minor": 0
      },
      "text/plain": [
       "HBox(children=(VBox(children=(VBox(children=(FloatText(value=50.0, description='Masa (g):'), FloatText(value=0…"
      ]
     },
     "metadata": {},
     "output_type": "display_data"
    }
   ],
   "source": [
    "display(output_balanza)"
   ]
  },
  {
   "cell_type": "code",
   "execution_count": 10,
   "id": "322761e1-7a94-40bf-96f7-360c58336286",
   "metadata": {},
   "outputs": [],
   "source": []
  },
  {
   "cell_type": "code",
   "execution_count": null,
   "id": "070fb372-509e-455b-8af7-3ffdbbe6adab",
   "metadata": {},
   "outputs": [],
   "source": []
  }
 ],
 "metadata": {
  "kernelspec": {
   "display_name": "Python 3 (ipykernel)",
   "language": "python",
   "name": "python3"
  },
  "language_info": {
   "codemirror_mode": {
    "name": "ipython",
    "version": 3
   },
   "file_extension": ".py",
   "mimetype": "text/x-python",
   "name": "python",
   "nbconvert_exporter": "python",
   "pygments_lexer": "ipython3",
   "version": "3.9.12"
  }
 },
 "nbformat": 4,
 "nbformat_minor": 5
}
