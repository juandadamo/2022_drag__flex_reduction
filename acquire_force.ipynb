{
 "cells": [
  {
   "cell_type": "code",
<<<<<<< HEAD
   "execution_count": 1,
=======
   "execution_count": 14,
>>>>>>> 21141922b6977cf9451a5dddc9186f1d34beae17
   "id": "bd92e25a",
   "metadata": {},
   "outputs": [],
   "source": [
<<<<<<< HEAD
    "import serial\n",
    "import numpy as np\n",
    "from matplotlib import pyplot as plt\n",
    "from time import time\n",
=======
    "\n",
    "%matplotlib widget\n",
    "import serial\n",
    "import numpy as np\n",
    "from matplotlib import pyplot as plt\n",
    "import time \n",
>>>>>>> 21141922b6977cf9451a5dddc9186f1d34beae17
    "import struct"
   ]
  },
  {
   "cell_type": "code",
<<<<<<< HEAD
   "execution_count": 2,
   "id": "9af4a27d-b0cd-4625-bfe0-9f6725959e5a",
   "metadata": {},
   "outputs": [
    {
     "ename": "KeyboardInterrupt",
     "evalue": "",
     "output_type": "error",
     "traceback": [
      "\u001b[0;31m---------------------------------------------------------------------------\u001b[0m",
      "\u001b[0;31mKeyboardInterrupt\u001b[0m                         Traceback (most recent call last)",
      "Input \u001b[0;32mIn [2]\u001b[0m, in \u001b[0;36m<cell line: 26>\u001b[0;34m()\u001b[0m\n\u001b[1;32m     26\u001b[0m \u001b[38;5;28;01mwhile\u001b[39;00m run:\n\u001b[1;32m     27\u001b[0m     ser\u001b[38;5;241m.\u001b[39mreset_input_buffer()\n\u001b[0;32m---> 28\u001b[0m     lectura \u001b[38;5;241m=\u001b[39m  \u001b[43mser\u001b[49m\u001b[38;5;241;43m.\u001b[39;49m\u001b[43mreadline\u001b[49m\u001b[43m(\u001b[49m\u001b[43m)\u001b[49m\n\u001b[1;32m     29\u001b[0m     texto \u001b[38;5;241m=\u001b[39m \u001b[38;5;28mstr\u001b[39m(lectura\u001b[38;5;241m.\u001b[39mdecode(\u001b[38;5;124m'\u001b[39m\u001b[38;5;124mascii\u001b[39m\u001b[38;5;124m'\u001b[39m))\u001b[38;5;241m.\u001b[39msplit(\u001b[38;5;124m'\u001b[39m\u001b[38;5;130;01m\\r\u001b[39;00m\u001b[38;5;124m'\u001b[39m)[\u001b[38;5;241m0\u001b[39m]\n\u001b[1;32m     30\u001b[0m     \u001b[38;5;28;01mif\u001b[39;00m texto\u001b[38;5;241m!=\u001b[39m \u001b[38;5;124m'\u001b[39m\u001b[38;5;130;01m\\n\u001b[39;00m\u001b[38;5;124m'\u001b[39m:\n",
      "File \u001b[0;32m~/anaconda3/lib/python3.9/site-packages/serial/serialposix.py:565\u001b[0m, in \u001b[0;36mSerial.read\u001b[0;34m(self, size)\u001b[0m\n\u001b[1;32m    563\u001b[0m \u001b[38;5;28;01mwhile\u001b[39;00m \u001b[38;5;28mlen\u001b[39m(read) \u001b[38;5;241m<\u001b[39m size:\n\u001b[1;32m    564\u001b[0m     \u001b[38;5;28;01mtry\u001b[39;00m:\n\u001b[0;32m--> 565\u001b[0m         ready, _, _ \u001b[38;5;241m=\u001b[39m \u001b[43mselect\u001b[49m\u001b[38;5;241;43m.\u001b[39;49m\u001b[43mselect\u001b[49m\u001b[43m(\u001b[49m\u001b[43m[\u001b[49m\u001b[38;5;28;43mself\u001b[39;49m\u001b[38;5;241;43m.\u001b[39;49m\u001b[43mfd\u001b[49m\u001b[43m,\u001b[49m\u001b[43m \u001b[49m\u001b[38;5;28;43mself\u001b[39;49m\u001b[38;5;241;43m.\u001b[39;49m\u001b[43mpipe_abort_read_r\u001b[49m\u001b[43m]\u001b[49m\u001b[43m,\u001b[49m\u001b[43m \u001b[49m\u001b[43m[\u001b[49m\u001b[43m]\u001b[49m\u001b[43m,\u001b[49m\u001b[43m \u001b[49m\u001b[43m[\u001b[49m\u001b[43m]\u001b[49m\u001b[43m,\u001b[49m\u001b[43m \u001b[49m\u001b[43mtimeout\u001b[49m\u001b[38;5;241;43m.\u001b[39;49m\u001b[43mtime_left\u001b[49m\u001b[43m(\u001b[49m\u001b[43m)\u001b[49m\u001b[43m)\u001b[49m\n\u001b[1;32m    566\u001b[0m         \u001b[38;5;28;01mif\u001b[39;00m \u001b[38;5;28mself\u001b[39m\u001b[38;5;241m.\u001b[39mpipe_abort_read_r \u001b[38;5;129;01min\u001b[39;00m ready:\n\u001b[1;32m    567\u001b[0m             os\u001b[38;5;241m.\u001b[39mread(\u001b[38;5;28mself\u001b[39m\u001b[38;5;241m.\u001b[39mpipe_abort_read_r, \u001b[38;5;241m1000\u001b[39m)\n",
      "\u001b[0;31mKeyboardInterrupt\u001b[0m: "
     ]
    },
    {
     "data": {
      "image/png": "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\n",
      "text/plain": [
       "<Figure size 432x288 with 2 Axes>"
      ]
     },
     "metadata": {
      "needs_background": "light"
     },
     "output_type": "display_data"
    }
   ],
   "source": [
    "# If you're not using Linux, you'll need to change this\n",
    "# check the Arduino IDE to see what serial port it's attached to\n",
    "ser = serial.Serial('/dev/ttyUSB0', 115200)\n",
    "plt.ion() \n",
    "start_time = time()\n",
    "timepoints = []\n",
    "ydata = []\n",
    "yrange = [-0.1,0.1]\n",
    "view_time = .5 # seconds of data to view at once\n",
    "duration = 2 # total seconds to collect data\n",
    "\n",
    "fig1 = plt.figure()\n",
    "# http://matplotlib.org/users/text_props.html\n",
    "fig1.suptitle('live updated data', fontsize='18', fontweight='bold')\n",
    "plt.xlabel('time, seconds', fontsize='14', fontstyle='italic')\n",
    "plt.ylabel('potential, volts', fontsize='14', fontstyle='italic')\n",
    "plt.axes().grid(True)\n",
    "line1, = plt.plot(ydata,marker='o',markersize=4,linestyle='none',markerfacecolor='red')\n",
    "plt.ylim(yrange)\n",
    "plt.xlim([0,view_time]);\n",
    "# flush any junk left in the serial buffer\n",
    "ser.flushInput()\n",
    "# ser.reset_input_buffer() # for pyserial 3.0+\n",
    "run = True\n",
    "# collect the data and plot a moving frame\n",
    "while run:\n",
    "    ser.reset_input_buffer()\n",
    "    lectura =  ser.readline()\n",
    "    texto = str(lectura.decode('ascii')).split('\\r')[0]\n",
    "    if texto!= '\\n':\n",
    "        if texto != '':\n",
    "            data = float(texto)\n",
    "    \n",
    "    # sometimes the incoming data is garbage, so just 'try' to do this\n",
    "    try:\n",
    "        # store the entire dataset for later\n",
    "        ydata.append(float(data[0])*5.0/1024)\n",
    "        timepoints.append(time()-start_time)\n",
    "        current_time = timepoints[-1]\n",
    "        \n",
    "        # update the plotted data\n",
    "        line1.set_xdata(timepoints)\n",
    "        line1.set_ydata(ydata)\n",
    "        \n",
    "        # slide the viewing frame along\n",
    "        if current_time > view_time:\n",
    "            plt.xlim([current_time-view_time,current_time])\n",
    "            \n",
    "        # when time's up, kill the collect+plot loop\n",
    "        if timepoints[-1] > duration: run=False\n",
    "    \n",
    "    # if the try statement throws an error, just do nothing\n",
    "    except: pass\n",
    "    \n",
    "    # update the plot\n",
    "    fig1.canvas.draw()\n",
    "\n",
    "# plot all of the data you collected\n",
    "fig2 = plt.figure()\n",
    "# http://matplotlib.org/users/text_props.html\n",
    "fig2.suptitle('complete data trace', fontsize='18', fontweight='bold')\n",
    "plt.xlabel('time, seconds', fontsize='14', fontstyle='italic')\n",
    "plt.ylabel('potential, volts', fontsize='14', fontstyle='italic')\n",
    "plt.axes().grid(True)\n",
    "\n",
    "plt.plot(timepoints, ydata,marker='o',markersize=4,linestyle='none',markerfacecolor='red')\n",
    "plt.ylim(yrange)\n",
    "fig2.show()\n",
    "\n",
    "ser.close()"
=======
   "execution_count": 38,
   "id": "7a6d6b7a-eec1-49d7-9e41-e362ed45ebc6",
   "metadata": {},
   "outputs": [],
   "source": [
    "fsampling = 80\n",
    "dt = 1/fsampling\n",
    "tfinal = 1\n",
    "tiempo_total = np.arange(0,tfinal,dt)\n",
    "\n",
    "\n",
    "time0 = time.time()\n",
    "time1 = time.time()-time0\n",
    "ser = serial.Serial('/dev/ttyUSB0', 115200, timeout=dt)\n",
    "output =[]\n",
    "while time1<1:\n",
    "    time1 = time.time()-time0\n",
    "    line = ser.readline()   # read a '\\n' terminated line\n",
    "   #texto = str(line.decode('ascii')).split('\\r')[0]\n",
    "    output.append((time1,line))\n",
    "  #  if texto!= '\\n':\n",
    "   #     if texto != '':\n",
    "   #         data = float(texto)\n",
    "     #       output.append((time1,data))\n",
    "ser.close()\n",
    "t, w = np.asarray(output).T"
   ]
  },
  {
   "cell_type": "code",
   "execution_count": 43,
   "id": "74eb8c1f-dffa-4779-aba3-cc67401de00b",
   "metadata": {},
   "outputs": [
    {
     "data": {
      "text/plain": [
       "0.003509999999999902"
      ]
     },
     "execution_count": 43,
     "metadata": {},
     "output_type": "execute_result"
    }
   ],
   "source": [
    "1.10641-1.1029"
>>>>>>> 21141922b6977cf9451a5dddc9186f1d34beae17
   ]
  },
  {
   "cell_type": "code",
   "execution_count": 3,
<<<<<<< HEAD
   "id": "725209dd-d9b7-496f-8b28-6fe410e2ad27",
   "metadata": {},
   "outputs": [],
   "source": [
    "ser.close()"
   ]
  },
  {
   "cell_type": "code",
   "execution_count": 49,
   "id": "4d140d15-2e23-4724-ace7-61c00fa45980",
   "metadata": {},
   "outputs": [
    {
     "ename": "SyntaxError",
     "evalue": "unexpected EOF while parsing (1569501955.py, line 1)",
     "output_type": "error",
     "traceback": [
      "\u001b[0;36m  Input \u001b[0;32mIn [49]\u001b[0;36m\u001b[0m\n\u001b[0;31m    struct.unpack('f',  ser.readline().split('/')\u001b[0m\n\u001b[0m                                                 ^\u001b[0m\n\u001b[0;31mSyntaxError\u001b[0m\u001b[0;31m:\u001b[0m unexpected EOF while parsing\n"
     ]
    }
   ],
   "source": [
    "struct.unpack('f',  ser.readline().split('/')"
=======
   "id": "3940726b-4add-41eb-aa40-abde9dc45d8f",
   "metadata": {},
   "outputs": [
    {
     "data": {
      "text/plain": [
       "[<matplotlib.lines.Line2D at 0x7f09a0129d90>]"
      ]
     },
     "execution_count": 3,
     "metadata": {},
     "output_type": "execute_result"
    },
    {
     "data": {
      "application/vnd.jupyter.widget-view+json": {
       "model_id": "d226267f7816484faf15b8fd0a6d6ff4",
       "version_major": 2,
       "version_minor": 0
      },
      "image/png": "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",
      "text/html": [
       "\n",
       "            <div style=\"display: inline-block;\">\n",
       "                <div class=\"jupyter-widgets widget-label\" style=\"text-align: center;\">\n",
       "                    Figure\n",
       "                </div>\n",
       "                <img src='data:image/png;base64,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' width=640.0/>\n",
       "            </div>\n",
       "        "
      ],
      "text/plain": [
       "Canvas(toolbar=Toolbar(toolitems=[('Home', 'Reset original view', 'home', 'home'), ('Back', 'Back to previous …"
      ]
     },
     "metadata": {},
     "output_type": "display_data"
    }
   ],
   "source": [
    "fig,ax = plt.subplots()\n",
    "ax.plot(t,w,'-o')"
>>>>>>> 21141922b6977cf9451a5dddc9186f1d34beae17
   ]
  },
  {
   "cell_type": "code",
<<<<<<< HEAD
   "execution_count": 33,
   "id": "36804d86",
=======
   "execution_count": 20,
   "id": "3f6dfa58-385a-4c45-97de-57b6de4ad205",
   "metadata": {},
   "outputs": [
    {
     "data": {
      "text/plain": [
       "array([ 0.035,  0.005, -0.009,  0.034, -0.071,  0.003,  0.051,  0.014,\n",
       "       -0.001, -0.055,  0.023, -0.007,  0.026,  0.02 ,  0.011,  0.115,\n",
       "        0.038,  0.071,  0.023, -0.08 , -0.066, -0.005,  0.109,  0.034,\n",
       "        0.034, -0.01 , -0.089, -0.05 , -0.065, -0.019,  0.034,  0.041,\n",
       "        0.11 ,  0.019,  0.059, -0.012, -0.042,  0.021,  0.004,  0.021,\n",
       "        0.007,  0.027,  0.059, -0.012,  0.014,  0.023,  0.064,  0.083,\n",
       "        0.018,  0.028, -0.021,  0.019,  0.021, -0.022,  0.021, -0.079,\n",
       "        0.012,  0.055,  0.036, -0.003, -0.081,  0.097, -0.008, -0.094,\n",
       "       -0.013,  0.002, -0.015, -0.011,  0.096,  0.012, -0.067, -0.028,\n",
       "       -0.04 ,  0.047, -0.009,  0.042,  0.099,  0.071,  0.102, -0.026,\n",
       "        0.029,  0.021, -0.05 ,  0.013,  0.014])"
      ]
     },
     "execution_count": 20,
     "metadata": {},
     "output_type": "execute_result"
    }
   ],
   "source": [
    "w"
   ]
  },
  {
   "cell_type": "code",
   "execution_count": 16,
   "id": "bddf804f-298c-4a42-b080-4b003762eabb",
>>>>>>> 21141922b6977cf9451a5dddc9186f1d34beae17
   "metadata": {},
   "outputs": [
    {
     "name": "stdout",
     "output_type": "stream",
     "text": [
<<<<<<< HEAD
      "\n",
      "Status ->  Serial<id=0x7f8d8c1545b0, open=False>(port='/dev/ttyUSB0', baudrate=9600, bytesize=8, parity='N', stopbits=1, timeout=None, xonxoff=False, rtscts=False, dsrdtr=False)\n"
=======
      "0.10056757926940918\n"
>>>>>>> 21141922b6977cf9451a5dddc9186f1d34beae17
     ]
    }
   ],
   "source": [
<<<<<<< HEAD
    "print('\\nStatus -> ',SerialObj) \n",
    "SerialObj.close() "
=======
    "t1 = time.time()\n",
    "time.sleep(.1)\n",
    "t2 = time.time()\n",
    "print(t2-t1)"
>>>>>>> 21141922b6977cf9451a5dddc9186f1d34beae17
   ]
  },
  {
   "cell_type": "code",
<<<<<<< HEAD
   "execution_count": 27,
   "id": "7a6d6b7a-eec1-49d7-9e41-e362ed45ebc6",
   "metadata": {},
   "outputs": [],
   "source": [
    "with serial.Serial('/dev/ttyUSB0', 115200, timeout=1) as ser:\n",
    "    x = ser.read()          # read one byte\n",
    "    s = ser.read(20)        # read up to ten bytes (timeout\n",
    "    line = ser.readline()   # read a '\\n' terminated line\n",
    "    ser.close()\n",
    "#ser.close()"
   ]
  },
  {
   "cell_type": "code",
   "execution_count": 26,
   "id": "bddf804f-298c-4a42-b080-4b003762eabb",
   "metadata": {},
   "outputs": [
    {
     "data": {
      "text/plain": [
       "b''"
      ]
     },
     "execution_count": 26,
     "metadata": {},
     "output_type": "execute_result"
    }
   ],
   "source": [
    "s"
   ]
  },
  {
   "cell_type": "code",
   "execution_count": 14,
=======
   "execution_count": 19,
>>>>>>> 21141922b6977cf9451a5dddc9186f1d34beae17
   "id": "dbf539f0-1781-42aa-8171-cc4dcdd14b06",
   "metadata": {},
   "outputs": [
    {
<<<<<<< HEAD
     "data": {
      "text/plain": [
       "b'7\\x10\\x98\\xceO\\x1f\\xa9\\xd5\\x15\\x85'"
      ]
     },
     "execution_count": 14,
     "metadata": {},
     "output_type": "execute_result"
    }
   ],
   "source": [
    "s\n"
=======
     "name": "stdout",
     "output_type": "stream",
     "text": [
      "/dev/ttyUSB0\n"
     ]
    },
    {
     "ename": "TypeError",
     "evalue": "unicode strings are not supported, please encode to bytes: 'hello'",
     "output_type": "error",
     "traceback": [
      "\u001b[0;31m---------------------------------------------------------------------------\u001b[0m",
      "\u001b[0;31mTypeError\u001b[0m                                 Traceback (most recent call last)",
      "Input \u001b[0;32mIn [19]\u001b[0m, in \u001b[0;36m<cell line: 3>\u001b[0;34m()\u001b[0m\n\u001b[1;32m      1\u001b[0m ser \u001b[38;5;241m=\u001b[39m serial\u001b[38;5;241m.\u001b[39mSerial(\u001b[38;5;124m'\u001b[39m\u001b[38;5;124m/dev/ttyUSB0\u001b[39m\u001b[38;5;124m'\u001b[39m)  \u001b[38;5;66;03m# open first serial port\u001b[39;00m\n\u001b[1;32m      2\u001b[0m \u001b[38;5;28mprint\u001b[39m (ser\u001b[38;5;241m.\u001b[39mportstr)       \u001b[38;5;66;03m# check which port was really used\u001b[39;00m\n\u001b[0;32m----> 3\u001b[0m \u001b[43mser\u001b[49m\u001b[38;5;241;43m.\u001b[39;49m\u001b[43mwrite\u001b[49m\u001b[43m(\u001b[49m\u001b[38;5;124;43m\"\u001b[39;49m\u001b[38;5;124;43mhello\u001b[39;49m\u001b[38;5;124;43m\"\u001b[39;49m\u001b[43m)\u001b[49m      \u001b[38;5;66;03m# write a string\u001b[39;00m\n\u001b[1;32m      4\u001b[0m ser\u001b[38;5;241m.\u001b[39mclose()\n",
      "File \u001b[0;32m~/anaconda3/lib/python3.9/site-packages/serial/serialposix.py:616\u001b[0m, in \u001b[0;36mSerial.write\u001b[0;34m(self, data)\u001b[0m\n\u001b[1;32m    614\u001b[0m \u001b[38;5;28;01mif\u001b[39;00m \u001b[38;5;129;01mnot\u001b[39;00m \u001b[38;5;28mself\u001b[39m\u001b[38;5;241m.\u001b[39mis_open:\n\u001b[1;32m    615\u001b[0m     \u001b[38;5;28;01mraise\u001b[39;00m PortNotOpenError()\n\u001b[0;32m--> 616\u001b[0m d \u001b[38;5;241m=\u001b[39m \u001b[43mto_bytes\u001b[49m\u001b[43m(\u001b[49m\u001b[43mdata\u001b[49m\u001b[43m)\u001b[49m\n\u001b[1;32m    617\u001b[0m tx_len \u001b[38;5;241m=\u001b[39m length \u001b[38;5;241m=\u001b[39m \u001b[38;5;28mlen\u001b[39m(d)\n\u001b[1;32m    618\u001b[0m timeout \u001b[38;5;241m=\u001b[39m Timeout(\u001b[38;5;28mself\u001b[39m\u001b[38;5;241m.\u001b[39m_write_timeout)\n",
      "File \u001b[0;32m~/anaconda3/lib/python3.9/site-packages/serial/serialutil.py:65\u001b[0m, in \u001b[0;36mto_bytes\u001b[0;34m(seq)\u001b[0m\n\u001b[1;32m     63\u001b[0m     \u001b[38;5;28;01mreturn\u001b[39;00m seq\u001b[38;5;241m.\u001b[39mtobytes()\n\u001b[1;32m     64\u001b[0m \u001b[38;5;28;01melif\u001b[39;00m \u001b[38;5;28misinstance\u001b[39m(seq, unicode):\n\u001b[0;32m---> 65\u001b[0m     \u001b[38;5;28;01mraise\u001b[39;00m \u001b[38;5;167;01mTypeError\u001b[39;00m(\u001b[38;5;124m'\u001b[39m\u001b[38;5;124municode strings are not supported, please encode to bytes: \u001b[39m\u001b[38;5;132;01m{!r}\u001b[39;00m\u001b[38;5;124m'\u001b[39m\u001b[38;5;241m.\u001b[39mformat(seq))\n\u001b[1;32m     66\u001b[0m \u001b[38;5;28;01melse\u001b[39;00m:\n\u001b[1;32m     67\u001b[0m     \u001b[38;5;66;03m# handle list of integers and bytes (one or more items) for Python 2 and 3\u001b[39;00m\n\u001b[1;32m     68\u001b[0m     \u001b[38;5;28;01mreturn\u001b[39;00m \u001b[38;5;28mbytes\u001b[39m(\u001b[38;5;28mbytearray\u001b[39m(seq))\n",
      "\u001b[0;31mTypeError\u001b[0m: unicode strings are not supported, please encode to bytes: 'hello'"
     ]
    }
   ],
   "source": [
    "\n",
    "ser = serial.Serial('/dev/ttyUSB0')  # open first serial port\n",
    "print (ser.portstr)       # check which port was really used\n",
    "ser.write(\"hello\")      # write a string\n",
    "ser.close()  "
>>>>>>> 21141922b6977cf9451a5dddc9186f1d34beae17
   ]
  },
  {
   "cell_type": "code",
   "execution_count": 17,
   "id": "c40cc5c0-a7f9-41b1-8604-b2fd9c1f57ba",
   "metadata": {},
   "outputs": [
    {
     "data": {
      "text/plain": [
       "b'\\xa6'"
      ]
     },
     "execution_count": 17,
     "metadata": {},
     "output_type": "execute_result"
    }
   ],
   "source": [
    "x"
   ]
  },
  {
   "cell_type": "code",
   "execution_count": null,
   "id": "fcb835a3-4803-4aa1-9103-72935b55b518",
   "metadata": {},
   "outputs": [],
   "source": []
  }
 ],
 "metadata": {
  "kernelspec": {
   "display_name": "Python 3 (ipykernel)",
   "language": "python",
   "name": "python3"
  },
  "language_info": {
   "codemirror_mode": {
    "name": "ipython",
    "version": 3
   },
   "file_extension": ".py",
   "mimetype": "text/x-python",
   "name": "python",
   "nbconvert_exporter": "python",
   "pygments_lexer": "ipython3",
   "version": "3.9.12"
  }
 },
 "nbformat": 4,
 "nbformat_minor": 5
}
