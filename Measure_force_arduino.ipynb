{
 "cells": [
  {
   "cell_type": "code",
   "execution_count": 102,
   "id": "bb574521-7030-4289-9d61-eae8f9ebe514",
   "metadata": {},
   "outputs": [],
   "source": [
    "%%capture\n",
    "!pip install ipywidgets pyserial matplotlib "
   ]
  },
  {
   "cell_type": "code",
   "execution_count": null,
   "id": "2b95bfee-e0ea-4589-b0cc-8851ea41f021",
   "metadata": {},
   "outputs": [],
   "source": []
  },
  {
   "cell_type": "code",
   "execution_count": 103,
   "id": "1a02b21a-a7b1-47d4-b272-e5829ad97504",
   "metadata": {},
   "outputs": [],
   "source": [
    "%matplotlib widget\n",
    "import serial,socket,os,glob\n",
    "import matplotlib.pyplot as plt\n",
    "#import atexit\n",
    "import numpy as np\n",
    "import time\n",
    "from ipywidgets import interact, interact_manual,interactive,widgets,Layout"
   ]
  },
  {
   "cell_type": "code",
   "execution_count": 104,
   "id": "9ac911d3-e46d-43a6-bab6-0609180e99ba",
   "metadata": {},
   "outputs": [],
   "source": [
    "if socket.gethostname() == 'ASUS515':\n",
    "    port = '/dev/ttyACM0'\n",
    "elif     socket.gethostname() == 'juan-i7':\n",
    "    port = '/dev/ttyUSB0'"
   ]
  },
  {
   "cell_type": "code",
   "execution_count": 108,
   "id": "c982eb9b-f8f0-4f30-b787-726fdf4514a5",
   "metadata": {},
   "outputs": [],
   "source": [
    "def f_acquire(b=1):\n",
    "    archivo = open('output.txt','w')\n",
    "    fsampling = 80\n",
    "    dt = 1/fsampling\n",
    "    tventana = 8\n",
    "    tiempo_total,valores = np.zeros((2,fsampling*tventana))\n",
    "    valores[valores==0] = np.NaN\n",
    "    arduino = serial.Serial(port, 115200, timeout=None)\n",
    "    i = 0\n",
    "    time0 = time.time()\n",
    "    time1 = time.time()-time0\n",
    "    linea = arduino.readline() \n",
    "    while time1<tventana:\n",
    "        linea = arduino.readline()   # read a '\\n' terminated line\n",
    "\n",
    "        texto = str(linea.decode('ascii')).split('\\r')[0]\n",
    "        \n",
    "        if texto!= '\\n':\n",
    "            if texto != '':\n",
    "                data = float(texto)                \n",
    "                if i ==0:\n",
    "                    time0 = time.time()\n",
    "                     \n",
    "                time1 = time.time()-time0\n",
    "                tiempo_total[i] = time1\n",
    "                valores[i] = data\n",
    "                i += 1\n",
    "                line.set_data([tiempo_total,valores])\n",
    "                fig.canvas.draw()\n",
    "                archivo.write(f'{time1:.4f},{data:.2f}\\n')\n",
    "    arduino.close()\n",
    "    archivo.close()\n",
    "    return tiempo_total,valores\n",
    "\n",
    "def f_save(b=1):\n",
    "    nombre = f'B_{rigidez_i.value:03d}_L_{int(longitud_i.value*100):03d}.txt'\n",
    "    if os.path.isfile(nombre):\n",
    "        nombre = np.sort(glob.glob(nombre[:3]+'*'))[-1]\n",
    "        partes = nombre.split('_')\n",
    "        if len(partes)<5:\n",
    "            numfile = 0\n",
    "            nombre = nombre.replace(f'.txt',f'_{numfile:0d}.txt') \n",
    "        else:\n",
    "            numfile = int(nombre.split('.txt')[0][-1:])\n",
    "            nombre = nombre.replace(f'_{numfile:0d}.txt',f'_{numfile+1:0d}.txt')   \n",
    "    print(nombre)\n",
    "    os.rename('output.txt',nombre)\n",
    "    \n",
    "    \n",
    "    "
   ]
  },
  {
   "cell_type": "code",
   "execution_count": 109,
   "id": "a396f265-26c5-4a2b-9add-4617de7da3f6",
   "metadata": {},
   "outputs": [],
   "source": [
    "#t,w = f_acquire()\n",
    "plt.ioff()\n",
    "B_s = [1,30,80,180]\n",
    "long_s = [0.75,1,1.25,1.5]\n",
    "\n",
    "outputw = widgets.Output()\n",
    "output_balanza = widgets.HBox(layout={'border': '4px solid black'})\n",
    "rigidez_i = widgets.Dropdown(options=[B_i for B_i in B_s],description='B=',disabled=False)\n",
    "longitud_i = widgets.Dropdown(options=[long_i for long_i in long_s],description='L=',disabled=False)   \n",
    "\n",
    "output = widgets.Output()\n",
    "ylims = widgets.FloatRangeSlider(value=[-2, 2],\n",
    "    min=-10,\n",
    "    max=10.0,\n",
    "    step=0.5,\n",
    "    disabled=False,\n",
    "    continuous_update=False,\n",
    "    orientation='horizontal',\n",
    "    readout=True,\n",
    "    readout_format='.2f', layout = widgets.Layout(width='300px')\n",
    ")\n",
    "xlims_label = widgets.Label('Time:')\n",
    "xlims = widgets.FloatRangeSlider(value=[0, 2],\n",
    "    min=0,\n",
    "    max=5.0,\n",
    "    step=0.5,\n",
    "\n",
    "    disabled=False,\n",
    "    continuous_update=False,\n",
    "    orientation='vertical',\n",
    "    readout=True,\n",
    "    readout_format='.2f', layout = widgets.Layout(width='200px',Positioning='bottom')\n",
    ")\n",
    "\n",
    "ylims_label = widgets.Label('Force:')\n",
    "\n",
    "boton_inicio_captura = widgets.Button(description='Inicio')\n",
    "boton_save = widgets.Button(description='Guardar')\n",
    "plt.ioff()\n",
    "\n",
    "parametros_flaps = widgets.VBox() \n",
    "plot_params = widgets.HBox()\n",
    "plot_params.children = (widgets.VBox([xlims,xlims_label]),widgets.VBox([ylims,ylims_label]))\n",
    "fig, ax = plt.subplots(constrained_layout=True, figsize=(5, 3))\n",
    "\n",
    "line, = ax.plot([], [], lw=2)\n",
    "# move the toolbar to the bottom\n",
    "fig.canvas.toolbar_position = 'bottom'\n",
    "ax.grid(True)  \n",
    "\n",
    "box_layout = widgets.Layout()\n",
    "boton_inicio_captura.on_click(f_acquire)\n",
    "boton_save.on_click(f_save)\n",
    "parametros_flaps.children = ([rigidez_i,longitud_i])\n",
    "panel_control = widgets.VBox(layout={'border': '1px solid black'})\n",
    "panel_control.children = ([parametros_flaps,boton_inicio_captura,boton_save])\n",
    "output_balanza.children = ([panel_control,fig.canvas])\n",
    "\n",
    "\n",
    "ax.set_xlim([0,7])\n",
    "ax.set_ylim([-5,30]);"
   ]
  },
  {
   "cell_type": "code",
   "execution_count": 110,
   "id": "a8f5664c-9e54-4fab-a668-b58cb11b6e43",
   "metadata": {},
   "outputs": [
    {
     "data": {
      "application/vnd.jupyter.widget-view+json": {
       "model_id": "1d2e594fd9954561be69ccaceec67cc7",
       "version_major": 2,
       "version_minor": 0
      },
      "text/plain": [
       "HBox(children=(VBox(children=(VBox(children=(Dropdown(description='B=', options=(1, 30, 80, 180), value=1), Dr…"
      ]
     },
     "metadata": {},
     "output_type": "display_data"
    }
   ],
   "source": [
    "display(output_balanza)"
   ]
  },
  {
   "cell_type": "code",
   "execution_count": null,
   "id": "f134342a-dd8a-4a30-a55b-fb5cbe7c176f",
   "metadata": {},
   "outputs": [],
   "source": [
    "# hacer tabla de medidas"
   ]
  }
 ],
 "metadata": {
  "kernelspec": {
   "display_name": "Python 3 (ipykernel)",
   "language": "python",
   "name": "python3"
  },
  "language_info": {
   "codemirror_mode": {
    "name": "ipython",
    "version": 3
   },
   "file_extension": ".py",
   "mimetype": "text/x-python",
   "name": "python",
   "nbconvert_exporter": "python",
   "pygments_lexer": "ipython3",
   "version": "3.9.12"
  }
 },
 "nbformat": 4,
 "nbformat_minor": 5
}
