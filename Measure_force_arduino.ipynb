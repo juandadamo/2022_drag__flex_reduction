{
 "cells": [
  {
   "cell_type": "code",
   "execution_count": 3,
   "id": "bb574521-7030-4289-9d61-eae8f9ebe514",
   "metadata": {},
   "outputs": [],
   "source": [
    "%%capture\n",
    "!pip install ipywidgets pyserial matplotlib "
   ]
  },
  {
   "cell_type": "code",
   "execution_count": null,
   "id": "2b95bfee-e0ea-4589-b0cc-8851ea41f021",
   "metadata": {},
   "outputs": [],
   "source": []
  },
  {
   "cell_type": "code",
   "execution_count": 1,
   "id": "1a02b21a-a7b1-47d4-b272-e5829ad97504",
   "metadata": {},
   "outputs": [],
   "source": [
    "%matplotlib widget\n",
    "import serial,socket,os,glob\n",
    "import matplotlib.pyplot as plt\n",
    "#import atexit\n",
    "import numpy as np\n",
    "import time\n",
    "from ipywidgets import interact, interact_manual,interactive,widgets,Layout\n",
    "colores = (plt.rcParams['axes.prop_cycle'].by_key()['color'])"
   ]
  },
  {
   "cell_type": "code",
   "execution_count": 2,
   "id": "9ac911d3-e46d-43a6-bab6-0609180e99ba",
   "metadata": {},
   "outputs": [],
   "source": [
    "if socket.gethostname() == 'juan-ASUS-X515EA':\n",
    "    port = '/dev/ttyUSB0'\n",
    "elif     socket.gethostname() == 'juan-i7':\n",
    "    port = '/dev/ttyUSB0'"
   ]
  },
  {
   "cell_type": "code",
   "execution_count": 6,
   "id": "c982eb9b-f8f0-4f30-b787-726fdf4514a5",
   "metadata": {},
   "outputs": [],
   "source": [
    "def f_acquire(b=1):\n",
    "    Ndata = 100\n",
    "    output_data = np.zeros((Ndata,3))\n",
    "    archivo = open('output.txt','w')\n",
    "    arduino = serial.Serial(port, 38400)\n",
    "    for i in range(10):\n",
    "        arduino.readline()\n",
    "\n",
    "    for i in range(Ndata):\n",
    "        linea = arduino.readline()   # read a '\\n' terminated line\n",
    "        texto = str(linea.decode('ascii')).split('\\r')[0]\n",
    "        if i ==0:\n",
    "            val_drag,val_lift,tiempo = [float(texti) for texti in texto.split(',')]\n",
    "            tiempo_0 = tiempo\n",
    "            \n",
    "        #archivo.write(texto+'\\n')\n",
    "        val_drag,val_lift,tiempo = [float(texti) for texti in texto.split(',')]\n",
    "        tiempo = (tiempo - tiempo_0)/1000\n",
    "\n",
    "        output_data[i] = [tiempo,val_drag,val_lift]\n",
    "        archivo.write(f'{tiempo:.3f},{val_drag:.1f},{val_lift:.1f}\\n')\n",
    "        line.set_data([output_data[:i,0],output_data[:i,1]])\n",
    "        line2.set_data([output_data[:i,0],output_data[:i,2]])\n",
    "        ymin,ymax = [val_drag-1,val_drag+1]\n",
    "        ymin2,ymax2 = [val_lift-1,val_lift+1]\n",
    "        \n",
    "        tmax = tiempo+1;\n",
    "        ax.set_ylim([ymin,ymax])\n",
    "        ax.set_xlim([0,tiempo+.1])\n",
    "        ax_b.set_xlim([0,tiempo+.1])\n",
    "        ax_b.set_ylim([ymin2,ymax2])\n",
    "        fig.canvas.draw()\n",
    "    archivo.close()\n",
    "    arduino.close()\n",
    "\n",
    "    return output_data\n",
    "\n",
    "def f_save(b=1):\n",
    "    nombre = f'B_{rigidez_i.value:03d}_L_{int(longitud_i.value*100):03d}.txt'\n",
    "    if os.path.isfile(nombre):\n",
    "        nombre = np.sort(glob.glob(nombre[:3]+'*'))[-1]\n",
    "        partes = nombre.split('_')\n",
    "        if len(partes)<5:\n",
    "            numfile = 0\n",
    "            nombre = nombre.replace(f'.txt',f'_{numfile:0d}.txt') \n",
    "        else:\n",
    "            numfile = int(nombre.split('.txt')[0][-1:])\n",
    "            nombre = nombre.replace(f'_{numfile:0d}.txt',f'_{numfile+1:0d}.txt')   \n",
    "    print(nombre)\n",
    "    os.rename('output.txt',nombre)\n",
    "def f_draw(b=1):\n",
    "    ax.set_ylim(ylims.value)\n",
    "     \n",
    "    ax_b.set_ylim(ylims2.value)\n",
    "    ax.set_xlim(xlims.value)\n",
    "     \n",
    "    ax_b.set_xlim(xlims.value)\n",
    "    fig.canvas.draw()\n",
    "    fig.tight_layout()\n",
    "    \n",
    "    \n",
    "    "
   ]
  },
  {
   "cell_type": "code",
   "execution_count": 12,
   "id": "a396f265-26c5-4a2b-9add-4617de7da3f6",
   "metadata": {},
   "outputs": [],
   "source": [
    "#t,w = f_acquire()\n",
    "plt.ioff()\n",
    "B_s = [1,30,80,180]\n",
    "long_s = [0.75,1,1.25,1.5]\n",
    "\n",
    "outputw = widgets.Output()\n",
    "output_balanza = widgets.HBox(layout={'border': '4px solid black'})\n",
    "rigidez_i = widgets.Dropdown(options=[B_i for B_i in B_s],description='B=',disabled=False)\n",
    "longitud_i = widgets.Dropdown(options=[long_i for long_i in long_s],description='L=',disabled=False)   \n",
    "\n",
    "Nmuestra_i = widgets.BoundedIntText(value=500,min=10,max=1000,description='N_muestra',disabled=False)   \n",
    "longitud_i.layout = widgets.Layout(width='150px')\n",
    "rigidez_i.layout = widgets.Layout(width='150px')\n",
    "Nmuestra_i.layout = widgets.Layout(width='150px')\n",
    "output = widgets.Output()\n",
    "ylims = widgets.FloatRangeSlider(value=[-2, 2],\n",
    "    min=-10,\n",
    "    max=10.0,\n",
    "    step=0.5,\n",
    "    disabled=False,\n",
    "    continuous_update=False,\n",
    "    orientation='horizontal',\n",
    "    readout=True,\n",
    "    readout_format='.2f', layout = widgets.Layout(width='150px')\n",
    ")\n",
    "ylims2 = widgets.FloatRangeSlider(value=[-2, 2],\n",
    "    min=-10,\n",
    "    max=10.0,\n",
    "    step=0.5,\n",
    "    disabled=False,\n",
    "    continuous_update=False,\n",
    "    orientation='horizontal',\n",
    "    readout=True,\n",
    "    readout_format='.2f', layout = widgets.Layout(width='150px')\n",
    ")\n",
    "xlims_label = widgets.Label('Time:')\n",
    "xlims = widgets.FloatRangeSlider(value=[0, 2],\n",
    "    min=0,\n",
    "    max=5.0,\n",
    "    step=0.5,\n",
    "\n",
    "    disabled=False,\n",
    "    continuous_update=False,\n",
    "    orientation='vertical',\n",
    "    readout=True,\n",
    "    readout_format='.2f', layout = widgets.Layout(width='150px',Positioning='bottom')\n",
    ")\n",
    "\n",
    "ylims_label = widgets.Label('Force:')\n",
    "boton_plot_lims = widgets.Button(description='plot')\n",
    "boton_inicio_captura = widgets.Button(description='Start')\n",
    "boton_save = widgets.Button(description='Save')\n",
    "plt.ioff()\n",
    "\n",
    "parametros_flaps = widgets.VBox() \n",
    "plot_params = widgets.HBox()\n",
    "plot_params.children = (widgets.VBox([xlims,xlims_label]),widgets.VBox([ylims,ylims2,ylims_label,boton_plot_lims]))\n",
    "fig, ax = plt.subplots(constrained_layout=True, figsize=(5, 3))\n",
    "ax_b = ax.twinx()\n",
    "line, = ax.plot([], [], lw=2,markersize=2,color=colores[0])\n",
    "line2, = ax_b.plot([], [], lw=2,markersize=2,color=colores[1])\n",
    "# move the toolbar to the bottom\n",
    "fig.canvas.toolbar_position = 'bottom'\n",
    "ax.grid(True)  \n",
    "\n",
    "box_layout = widgets.Layout()\n",
    "boton_inicio_captura.on_click(f_acquire)\n",
    "boton_plot_lims.on_click(f_draw)\n",
    "boton_save.on_click(f_save)\n",
    "parametros_flaps.children = ([rigidez_i,longitud_i])\n",
    "panel_control = widgets.VBox(layout={'border': '1px solid black'})\n",
    "panel_control.children = ([parametros_flaps,Nmuestra_i,boton_inicio_captura,boton_save])\n",
    "output_balanza.children = ([panel_control,fig.canvas,plot_params])\n",
    "\n",
    "fig.tight_layout()\n",
    "#ax.set_xlim([0,7])\n",
    "#ax.set_ylim([-5,30]);"
   ]
  },
  {
   "cell_type": "code",
   "execution_count": 13,
   "id": "a8f5664c-9e54-4fab-a668-b58cb11b6e43",
   "metadata": {},
   "outputs": [
    {
     "data": {
      "application/vnd.jupyter.widget-view+json": {
       "model_id": "1197b01130d346ff973aeb91f501db66",
       "version_major": 2,
       "version_minor": 0
      },
      "text/plain": [
       "HBox(children=(VBox(children=(VBox(children=(Dropdown(description='B=', layout=Layout(width='150px'), options=…"
      ]
     },
     "metadata": {},
     "output_type": "display_data"
    }
   ],
   "source": [
    "display(output_balanza)"
   ]
  },
  {
   "cell_type": "code",
   "execution_count": 101,
   "id": "23a19826-be3a-44f3-93d0-74867cb3d386",
   "metadata": {},
   "outputs": [],
   "source": [
    "out1 = f_acquire(1)"
   ]
  },
  {
   "cell_type": "code",
   "execution_count": 98,
   "id": "4b3a0010-f41f-41f2-9bd1-7891a83929fe",
   "metadata": {},
   "outputs": [
    {
     "data": {
      "text/plain": [
       "-1.0"
      ]
     },
     "execution_count": 98,
     "metadata": {},
     "output_type": "execute_result"
    }
   ],
   "source": [
    "ax.lines[0].get_ydata()"
   ]
  },
  {
   "cell_type": "code",
   "execution_count": 23,
   "id": "f134342a-dd8a-4a30-a55b-fb5cbe7c176f",
   "metadata": {},
   "outputs": [],
   "source": [
    "archivo = open('output.txt','w')\n",
    "arduino = serial.Serial(port, 38400)"
   ]
  },
  {
   "cell_type": "code",
   "execution_count": 24,
   "id": "eaa290fb-5833-4599-af80-a471a8b1578f",
   "metadata": {},
   "outputs": [],
   "source": [
    "for i in range(10):\n",
    "    arduino.readline()\n"
   ]
  },
  {
   "cell_type": "code",
   "execution_count": 25,
   "id": "68ad91fe-2c8f-492b-8a2f-7581016e011b",
   "metadata": {},
   "outputs": [],
   "source": [
    "for i in range(10):\n",
    "    linea = arduino.readline()   # read a '\\n' terminated line\n",
    "    texto = str(linea.decode('ascii')).split('\\r')[0]\n",
    "    archivo.write(texto+'\\n')"
   ]
  },
  {
   "cell_type": "code",
   "execution_count": 21,
   "id": "47e31766-1479-46d9-b4b2-f9a84c78a58b",
   "metadata": {},
   "outputs": [
    {
     "data": {
      "text/plain": [
       "'-1, 0,1010'"
      ]
     },
     "execution_count": 21,
     "metadata": {},
     "output_type": "execute_result"
    }
   ],
   "source": [
    "texto"
   ]
  },
  {
   "cell_type": "code",
   "execution_count": 43,
   "id": "50c121e8-1627-44ac-895e-73e86003b144",
   "metadata": {},
   "outputs": [
    {
     "ename": "IndentationError",
     "evalue": "expected an indented block (3366738032.py, line 6)",
     "output_type": "error",
     "traceback": [
      "\u001b[0;36m  Input \u001b[0;32mIn [43]\u001b[0;36m\u001b[0m\n\u001b[0;31m    linea = arduino.readline()   # read a '\\n' terminated line\u001b[0m\n\u001b[0m    ^\u001b[0m\n\u001b[0;31mIndentationError\u001b[0m\u001b[0;31m:\u001b[0m expected an indented block\n"
     ]
    }
   ],
   "source": [
    " \n",
    "\n",
    "i = 0\n",
    "time0 = time.time()\n",
    "time1 = time.time()-time0\n",
    "linea = arduino.readline() \n",
    "while i<fsampling*2:\n",
    "linea = arduino.readline()   # read a '\\n' terminated line\n",
    "\n",
    "texto = str(linea.decode('ascii')).split('\\r')[0]\n",
    "\n",
    "if texto!= '\\n':\n",
    "if texto != '':\n",
    "data = float(texto)                \n",
    "if i ==0:\n",
    "    time0 = time.time()\n",
    "\n",
    "time1 = time.time()-time0\n",
    "tiempo_total[i] = time1\n",
    "valores[i] = data\n",
    "i += 1\n",
    "line.set_data([tiempo_total,valores])\n",
    "fig.canvas.draw()\n",
    "archivo.write(f'{time1:.4f},{data:.2f}\\n')\n",
    "arduino.close()\n",
    "archivo.close()\n",
    "\n",
    "\n",
    "def f_save(b=1):\n",
    "    nombre = f'B_{rigidez_i.value:03d}_L_{int(longitud_i.value*100):03d}.txt'\n",
    "    if os.path.isfile(nombre):\n",
    "        nombre = np.sort(glob.glob(nombre[:3]+'*'))[-1]\n",
    "        partes = nombre.split('_')\n",
    "        if len(partes)<5:\n",
    "            numfile = 0\n",
    "            nombre = nombre.replace(f'.txt',f'_{numfile:0d}.txt') \n",
    "        else:\n",
    "            numfile = int(nombre.split('.txt')[0][-1:])\n",
    "            nombre = nombre.replace(f'_{numfile:0d}.txt',f'_{numfile+1:0d}.txt')   \n",
    "    print(nombre)\n",
    "    os.rename('output.txt',nombre)\n",
    "    \n",
    "    \n",
    "    "
   ]
  },
  {
   "cell_type": "code",
   "execution_count": 53,
   "id": "fd237b8d-cee8-40a4-83d0-b3c7eb949bb3",
   "metadata": {},
   "outputs": [],
   "source": [
    "t,w = f_acquire()"
   ]
  },
  {
   "cell_type": "code",
   "execution_count": 55,
   "id": "ff775752-09e2-4a81-903a-4e97c8668eab",
   "metadata": {},
   "outputs": [
    {
     "data": {
      "text/plain": [
       "(200,)"
      ]
     },
     "execution_count": 55,
     "metadata": {},
     "output_type": "execute_result"
    }
   ],
   "source": [
    "w.shape"
   ]
  },
  {
   "cell_type": "code",
   "execution_count": 41,
   "id": "8c380417-be5b-41b8-9e77-f9aa134cd47c",
   "metadata": {},
   "outputs": [],
   "source": [
    "arduino = serial.Serial(port, 115200, timeout=1/80)"
   ]
  },
  {
   "cell_type": "code",
   "execution_count": 42,
   "id": "17f1657d-0f31-4a52-8772-743a1be6a458",
   "metadata": {},
   "outputs": [
    {
     "data": {
      "text/plain": [
       "b'0.0\\r\\n'"
      ]
     },
     "execution_count": 42,
     "metadata": {},
     "output_type": "execute_result"
    }
   ],
   "source": [
    "arduino.readline()"
   ]
  },
  {
   "cell_type": "code",
   "execution_count": 56,
   "id": "6b81dcec-e996-4c8f-ab1a-72a2987b053f",
   "metadata": {},
   "outputs": [
    {
     "data": {
      "text/plain": [
       "array([ 0.09386206,  0.05419636,  0.0478847 ,  0.04769206,  0.04729128,\n",
       "        0.04958701,  0.05066538,  0.05107999,  0.05054832,  0.05040503,\n",
       "        0.05066919,  0.04705739,  0.04962444,  0.05389833,  0.06026006,\n",
       "        0.05161691,  0.05016541,  0.05322814,  0.05555344,  0.05042076,\n",
       "        0.04859018,  0.04934835,  0.0497427 ,  0.04892254,  0.04752469,\n",
       "        0.04812646,  0.04683161,  0.04721737,  0.04678583,  0.04734683,\n",
       "        0.04682732,  0.04661131,  0.04707122,  0.04716134,  0.04695892,\n",
       "        0.04834414,  0.04682994,  0.04674387,  0.04706216,  0.04672766,\n",
       "        0.04695368,  0.04732847,  0.04662561,  0.047122  ,  0.04720831,\n",
       "        0.04666114,  0.04710889,  0.04678035,  0.04730606, -2.43957615,\n",
       "        0.        ,  0.        ,  0.        ,  0.        ,  0.        ,\n",
       "        0.        ,  0.        ,  0.        ,  0.        ,  0.        ,\n",
       "        0.        ,  0.        ,  0.        ,  0.        ,  0.        ,\n",
       "        0.        ,  0.        ,  0.        ,  0.        ,  0.        ,\n",
       "        0.        ,  0.        ,  0.        ,  0.        ,  0.        ,\n",
       "        0.        ,  0.        ,  0.        ,  0.        ,  0.        ,\n",
       "        0.        ,  0.        ,  0.        ,  0.        ,  0.        ,\n",
       "        0.        ,  0.        ,  0.        ,  0.        ,  0.        ,\n",
       "        0.        ,  0.        ,  0.        ,  0.        ,  0.        ,\n",
       "        0.        ,  0.        ,  0.        ,  0.        ,  0.        ,\n",
       "        0.        ,  0.        ,  0.        ,  0.        ,  0.        ,\n",
       "        0.        ,  0.        ,  0.        ,  0.        ,  0.        ,\n",
       "        0.        ,  0.        ,  0.        ,  0.        ,  0.        ,\n",
       "        0.        ,  0.        ,  0.        ,  0.        ,  0.        ,\n",
       "        0.        ,  0.        ,  0.        ,  0.        ,  0.        ,\n",
       "        0.        ,  0.        ,  0.        ,  0.        ,  0.        ,\n",
       "        0.        ,  0.        ,  0.        ,  0.        ,  0.        ,\n",
       "        0.        ,  0.        ,  0.        ,  0.        ,  0.        ,\n",
       "        0.        ,  0.        ,  0.        ,  0.        ,  0.        ,\n",
       "        0.        ,  0.        ,  0.        ,  0.        ,  0.        ,\n",
       "        0.        ,  0.        ,  0.        ,  0.        ,  0.        ,\n",
       "        0.        ,  0.        ,  0.        ,  0.        ,  0.        ,\n",
       "        0.        ,  0.        ,  0.        ,  0.        ,  0.        ,\n",
       "        0.        ,  0.        ,  0.        ,  0.        ,  0.        ,\n",
       "        0.        ,  0.        ,  0.        ,  0.        ,  0.        ,\n",
       "        0.        ,  0.        ,  0.        ,  0.        ,  0.        ,\n",
       "        0.        ,  0.        ,  0.        ,  0.        ,  0.        ,\n",
       "        0.        ,  0.        ,  0.        ,  0.        ,  0.        ,\n",
       "        0.        ,  0.        ,  0.        ,  0.        ,  0.        ,\n",
       "        0.        ,  0.        ,  0.        ,  0.        ])"
      ]
     },
     "execution_count": 56,
     "metadata": {},
     "output_type": "execute_result"
    }
   ],
   "source": [
    "np.diff(t)"
   ]
  },
  {
   "cell_type": "code",
   "execution_count": 25,
   "id": "d79017d3-d272-499a-91c3-e4e312abaf67",
   "metadata": {},
   "outputs": [
    {
     "data": {
      "text/plain": [
       "25.0"
      ]
     },
     "execution_count": 25,
     "metadata": {},
     "output_type": "execute_result"
    }
   ],
   "source": [
    "1/0.04"
   ]
  },
  {
   "cell_type": "code",
   "execution_count": 49,
   "id": "44047b08-a4d5-4eea-a1c4-5564d67fef4f",
   "metadata": {},
   "outputs": [
    {
     "data": {
      "text/plain": [
       "0.05"
      ]
     },
     "execution_count": 49,
     "metadata": {},
     "output_type": "execute_result"
    }
   ],
   "source": [
    "5e-2"
   ]
  },
  {
   "cell_type": "code",
   "execution_count": null,
   "id": "2c98a84a-7ecf-4a67-b69a-9a6decff23ec",
   "metadata": {},
   "outputs": [],
   "source": []
  }
 ],
 "metadata": {
  "kernelspec": {
   "display_name": "Python 3 (ipykernel)",
   "language": "python",
   "name": "python3"
  },
  "language_info": {
   "codemirror_mode": {
    "name": "ipython",
    "version": 3
   },
   "file_extension": ".py",
   "mimetype": "text/x-python",
   "name": "python",
   "nbconvert_exporter": "python",
   "pygments_lexer": "ipython3",
   "version": "3.9.13"
  }
 },
 "nbformat": 4,
 "nbformat_minor": 5
}
